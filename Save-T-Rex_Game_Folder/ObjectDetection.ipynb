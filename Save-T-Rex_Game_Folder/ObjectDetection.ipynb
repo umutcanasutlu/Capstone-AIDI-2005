{
 "cells": [
  {
   "cell_type": "code",
   "execution_count": 1,
   "metadata": {},
   "outputs": [],
   "source": [
    "#Needed libraries\n",
    "import numpy as np\n",
    "import cv2\n",
    "from PIL import ImageGrab\n",
    "import webbrowser\n",
    "import pyautogui"
   ]
  },
  {
   "cell_type": "code",
   "execution_count": 2,
   "metadata": {},
   "outputs": [],
   "source": [
    "#Will be deleted\n",
    "import time\n",
    "import os"
   ]
  },
  {
   "cell_type": "code",
   "execution_count": 3,
   "metadata": {},
   "outputs": [],
   "source": [
    "#pyautogui.moveTo(pyautogui.size()[0]/2, pyautogui.size()[1]/2+pyautogui.size()[1]/15, 0.01)"
   ]
  },
  {
   "cell_type": "code",
   "execution_count": 4,
   "metadata": {},
   "outputs": [],
   "source": [
    "#url = 'https://growgaming.itch.io/save-t-rex'\n",
    "\n",
    "# Open URL in a new tab, if a browser window is already open.\n",
    "#webbrowser.open_new_tab(url)\n",
    "\n",
    "# Open URL in new window, raising the window if possible.\n",
    "#webbrowser.open_new(url)"
   ]
  },
  {
   "cell_type": "code",
   "execution_count": 17,
   "metadata": {},
   "outputs": [],
   "source": [
    "#Will be deleted\n",
    "if os.path.exists('Captures'):\n",
    "    os.remove('Captures')\n",
    "os.makedirs('Captures')"
   ]
  },
  {
   "cell_type": "code",
   "execution_count": 18,
   "metadata": {},
   "outputs": [],
   "source": [
    "path = './Captures'"
   ]
  },
  {
   "cell_type": "code",
   "execution_count": 19,
   "metadata": {},
   "outputs": [],
   "source": [
    "trex = cv2.imread('objects/trex.png')\n",
    "bird = cv2.imread('objects/bird1.png')\n",
    "cactus = cv2.imread('objects/cactus.png')\n",
    "mole = cv2.imread('objects/mole.png')\n",
    "coin = cv2.imread('objects/coin.png')\n",
    "\n",
    "trexH, trexW = trex.shape[0], trex.shape[1]\n",
    "birdH, birdW = bird.shape[0], bird.shape[1]\n",
    "moleH, moleW = mole.shape[0], mole.shape[1]\n",
    "coinH, coinW = coin.shape[0], coin.shape[1]\n",
    "cactusH, cactusW = cactus.shape[0], cactus.shape[1]\n"
   ]
  },
  {
   "cell_type": "code",
   "execution_count": 20,
   "metadata": {},
   "outputs": [],
   "source": [
    "#background = cv2.imread('background.png')"
   ]
  },
  {
   "cell_type": "code",
   "execution_count": 21,
   "metadata": {},
   "outputs": [
    {
     "name": "stdout",
     "output_type": "stream",
     "text": [
      "0\n",
      "(502, 368)\n",
      "1\n",
      "(502, 368)\n",
      "2\n",
      "(502, 36)\n",
      "3\n",
      "(502, 58)\n",
      "4\n",
      "(502, 368)\n",
      "5\n",
      "(501, 101)\n",
      "6\n",
      "(501, 89)\n",
      "7\n",
      "(501, 251)\n",
      "8\n",
      "(502, 285)\n",
      "9\n",
      "(501, 43)\n",
      "10\n",
      "(502, 283)\n",
      "11\n",
      "(502, 368)\n",
      "12\n",
      "(1352, 578)\n",
      "13\n",
      "(386, 578)\n",
      "14\n",
      "(1352, 576)\n",
      "15\n",
      "(1352, 576)\n",
      "16\n",
      "(1352, 576)\n",
      "17\n",
      "(0, 0)\n",
      "18\n",
      "(488, 288)\n",
      "19\n",
      "(487, 203)\n",
      "20\n",
      "(1374, 530)\n",
      "21\n",
      "(487, 203)\n",
      "22\n",
      "(941, 324)\n",
      "23\n",
      "(493, 7)\n",
      "24\n",
      "(356, 588)\n",
      "25\n",
      "(1352, 578)\n",
      "26\n",
      "(1771, 501)\n",
      "27\n",
      "(1771, 497)\n",
      "28\n",
      "(1771, 437)\n",
      "29\n",
      "(1771, 432)\n"
     ]
    }
   ],
   "source": [
    "#We can capture the screen we look at\n",
    "time.sleep(3)\n",
    "swidth, sheight = pyautogui.size()\n",
    "\n",
    "xfactor = swidth / 1920 \n",
    "yfactor = sheight / 1080 \n",
    "\n",
    "url = 'https://growgaming.itch.io/save-t-rex'\n",
    "webbrowser.open_new(url)\n",
    "time.sleep(3.0)\n",
    "pyautogui.click(942 * xfactor, 607* yfactor) \n",
    "time.sleep(3.0)\n",
    "pyautogui.click(1415 * xfactor, 909 * yfactor)\n",
    "time.sleep(4.0)\n",
    "pyautogui.click(955 * xfactor, 399 * yfactor)\n",
    "time.sleep(3.0)\n",
    "\n",
    "\n",
    "for i in range(10):\n",
    "    print(i)\n",
    "    captures = ImageGrab.grab(bbox=(40,180,1920,1080))\n",
    "    captures = np.array(captures)\n",
    "    cv2.imwrite(os.path.join(path , 'ss_'+str(i)+'.png'), captures) \n",
    "    \n",
    "    #Template matching\n",
    "    trexloc = cv2.matchTemplate(captures, trex, cv2.TM_SQDIFF_NORMED )\n",
    "    birdloc = cv2.matchTemplate(captures, bird, cv2.TM_SQDIFF_NORMED )\n",
    "    moleloc = cv2.matchTemplate(captures, mole, cv2.TM_SQDIFF_NORMED )\n",
    "    coinloc = cv2.matchTemplate(captures, coin, cv2.TM_SQDIFF_NORMED )\n",
    "    cactusloc = cv2.matchTemplate(captures, cactus, cv2.TM_SQDIFF_NORMED)\n",
    "    \n",
    "    threshold = 0.9\n",
    "    \n",
    "    #Extracting the locations of the objects\n",
    "    trexloc = cv2.minMaxLoc(trexloc)[2]\n",
    "    birdloc = cv2.minMaxLoc(birdloc)[2]\n",
    "    moleloc = cv2.minMaxLoc(moleloc)[2]\n",
    "    coinloc = cv2.minMaxLoc(coinloc)[2]\n",
    "    cactusloc = cv2.minMaxLoc(cactusloc)[2]\n",
    "    #print(tloc)\n",
    "    \n",
    "    #trexloc = np.where( trexloc >= threshold)\n",
    "    print(trexloc)    \n",
    "    #birdloc = np.where( birdloc >= threshold)\n",
    "    #moleloc = np.where( moleloc >= threshold)\n",
    "    #coinloc = np.where( coinloc >= threshold)\n",
    "    #cactusloc = np.where( cactusloc >= threshold)\n",
    "    \n",
    "    \n",
    "    #Drawing rectangles\n",
    "    cv2.rectangle(captures, trexloc, (trexloc[0]+trexW, trexloc[1]+trexH), (0, 255, 0), 3)\n",
    "    cv2.rectangle(captures, birdloc, (birdloc[0]+birdW, birdloc[1]+birdH), (0, 0, 255), 3)\n",
    "    cv2.rectangle(captures, moleloc, (moleloc[0]+trexW, moleloc[1]+moleH), (255, 0, 255), 3)\n",
    "    cv2.rectangle(captures, coinloc, (coinloc[0]+coinW, coinloc[1]+coinH), (255, 255, 0), 3)\n",
    "    cv2.rectangle(captures, cactusloc, (cactusloc[0]+cactusW, cactusloc[1]+cactusH), (255, 0, 0), 3)\n",
    "    cv2.imwrite(os.path.join(path , 'ss_with_object_'+str(i)+'.png'), captures) \n",
    "    \n",
    "    time.sleep(1)"
   ]
  },
  {
   "cell_type": "code",
   "execution_count": 117,
   "metadata": {},
   "outputs": [
    {
     "data": {
      "text/plain": [
       "array([[0.35956022, 0.35956022, 0.35956022, ..., 0.31697568, 0.31854424,\n",
       "        0.32144716],\n",
       "       [0.35956022, 0.35956022, 0.35956022, ..., 0.31479865, 0.31713766,\n",
       "        0.32088053],\n",
       "       [0.35956052, 0.35956052, 0.35956037, ..., 0.31302273, 0.3161545 ,\n",
       "        0.32014984],\n",
       "       ...,\n",
       "       [0.6445501 , 0.6451075 , 0.6452626 , ..., 0.560102  , 0.5591695 ,\n",
       "        0.5582604 ],\n",
       "       [0.6498746 , 0.6502903 , 0.6504193 , ..., 0.5647701 , 0.56414557,\n",
       "        0.5630341 ],\n",
       "       [0.65528136, 0.6556692 , 0.6557815 , ..., 0.56806076, 0.56838256,\n",
       "        0.5677249 ]], dtype=float32)"
      ]
     },
     "execution_count": 117,
     "metadata": {},
     "output_type": "execute_result"
    }
   ],
   "source": [
    "coinloc"
   ]
  },
  {
   "cell_type": "code",
   "execution_count": null,
   "metadata": {},
   "outputs": [],
   "source": []
  }
 ],
 "metadata": {
  "kernelspec": {
   "display_name": "Python 3",
   "language": "python",
   "name": "python3"
  },
  "language_info": {
   "codemirror_mode": {
    "name": "ipython",
    "version": 3
   },
   "file_extension": ".py",
   "mimetype": "text/x-python",
   "name": "python",
   "nbconvert_exporter": "python",
   "pygments_lexer": "ipython3",
   "version": "3.8.3"
  }
 },
 "nbformat": 4,
 "nbformat_minor": 4
}
