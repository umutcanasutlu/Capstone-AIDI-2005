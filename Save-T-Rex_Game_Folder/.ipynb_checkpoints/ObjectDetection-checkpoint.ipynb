{
 "cells": [
  {
   "cell_type": "code",
   "execution_count": 2,
   "metadata": {},
   "outputs": [],
   "source": [
    "#Needed libraries\n",
    "import numpy as np\n",
    "import cv2\n",
    "from PIL import ImageGrab\n",
    "import matplotlib.pyplot as plt\n",
    "%matplotlib inline"
   ]
  },
  {
   "cell_type": "code",
   "execution_count": 3,
   "metadata": {},
   "outputs": [],
   "source": [
    "#Will be deleted\n",
    "import time\n",
    "import os"
   ]
  },
  {
   "cell_type": "code",
   "execution_count": 5,
   "metadata": {},
   "outputs": [
    {
     "data": {
      "text/plain": [
       "0"
      ]
     },
     "execution_count": 5,
     "metadata": {},
     "output_type": "execute_result"
    }
   ],
   "source": [
    "os.system('\"Save-T-Rex.exe\"')"
   ]
  },
  {
   "cell_type": "code",
   "execution_count": 6,
   "metadata": {},
   "outputs": [],
   "source": [
    "#Will be deleted\n",
    "if not os.path.exists('Captures'):\n",
    "    os.makedirs('Captures')"
   ]
  },
  {
   "cell_type": "code",
   "execution_count": 7,
   "metadata": {},
   "outputs": [],
   "source": [
    "path = './Captures'"
   ]
  },
  {
   "cell_type": "code",
   "execution_count": 5,
   "metadata": {},
   "outputs": [],
   "source": [
    "trex = cv2.imread('objects/trex.png')\n",
    "bird = cv2.imread('objects/bird1.png')\n",
    "cactus = cv2.imread('objects/cactus.png')\n",
    "mole = cv2.imread('objects/mole.png')\n",
    "coin = cv2.imread('objects/coin.png')\n",
    "\n",
    "trexH, trexW = trex.shape[0], trex.shape[1]\n",
    "birdH, birdW = bird.shape[0], bird.shape[1]\n",
    "moleH, moleW = mole.shape[0], mole.shape[1]\n",
    "coinH, coinW = coin.shape[0], coin.shape[1]\n",
    "cactusH, cactusW = cactus.shape[0], cactus.shape[1]\n"
   ]
  },
  {
   "cell_type": "code",
   "execution_count": 6,
   "metadata": {},
   "outputs": [],
   "source": [
    "#background = cv2.imread('background.png')"
   ]
  },
  {
   "cell_type": "code",
   "execution_count": 7,
   "metadata": {},
   "outputs": [
    {
     "name": "stdout",
     "output_type": "stream",
     "text": [
      "0\n",
      "(1771, 624)\n",
      "1\n",
      "(1771, 609)\n",
      "2\n",
      "(684, 62)\n",
      "3\n",
      "(218, 771)\n",
      "4\n"
     ]
    },
    {
     "ename": "KeyboardInterrupt",
     "evalue": "",
     "output_type": "error",
     "traceback": [
      "\u001b[1;31m---------------------------------------------------------------------------\u001b[0m",
      "\u001b[1;31mKeyboardInterrupt\u001b[0m                         Traceback (most recent call last)",
      "\u001b[1;32m<ipython-input-7-8f8bb7751c2e>\u001b[0m in \u001b[0;36m<module>\u001b[1;34m\u001b[0m\n\u001b[0;32m      7\u001b[0m \u001b[1;33m\u001b[0m\u001b[0m\n\u001b[0;32m      8\u001b[0m     \u001b[1;31m#Template matching\u001b[0m\u001b[1;33m\u001b[0m\u001b[1;33m\u001b[0m\u001b[1;33m\u001b[0m\u001b[0m\n\u001b[1;32m----> 9\u001b[1;33m     \u001b[0mtrexloc\u001b[0m \u001b[1;33m=\u001b[0m \u001b[0mcv2\u001b[0m\u001b[1;33m.\u001b[0m\u001b[0mmatchTemplate\u001b[0m\u001b[1;33m(\u001b[0m\u001b[0mcaptures\u001b[0m\u001b[1;33m,\u001b[0m \u001b[0mtrex\u001b[0m\u001b[1;33m,\u001b[0m \u001b[0mcv2\u001b[0m\u001b[1;33m.\u001b[0m\u001b[0mTM_SQDIFF_NORMED\u001b[0m \u001b[1;33m)\u001b[0m\u001b[1;33m\u001b[0m\u001b[1;33m\u001b[0m\u001b[0m\n\u001b[0m\u001b[0;32m     10\u001b[0m     \u001b[0mbirdloc\u001b[0m \u001b[1;33m=\u001b[0m \u001b[0mcv2\u001b[0m\u001b[1;33m.\u001b[0m\u001b[0mmatchTemplate\u001b[0m\u001b[1;33m(\u001b[0m\u001b[0mcaptures\u001b[0m\u001b[1;33m,\u001b[0m \u001b[0mbird\u001b[0m\u001b[1;33m,\u001b[0m \u001b[0mcv2\u001b[0m\u001b[1;33m.\u001b[0m\u001b[0mTM_SQDIFF_NORMED\u001b[0m \u001b[1;33m)\u001b[0m\u001b[1;33m\u001b[0m\u001b[1;33m\u001b[0m\u001b[0m\n\u001b[0;32m     11\u001b[0m     \u001b[0mmoleloc\u001b[0m \u001b[1;33m=\u001b[0m \u001b[0mcv2\u001b[0m\u001b[1;33m.\u001b[0m\u001b[0mmatchTemplate\u001b[0m\u001b[1;33m(\u001b[0m\u001b[0mcaptures\u001b[0m\u001b[1;33m,\u001b[0m \u001b[0mmole\u001b[0m\u001b[1;33m,\u001b[0m \u001b[0mcv2\u001b[0m\u001b[1;33m.\u001b[0m\u001b[0mTM_SQDIFF_NORMED\u001b[0m \u001b[1;33m)\u001b[0m\u001b[1;33m\u001b[0m\u001b[1;33m\u001b[0m\u001b[0m\n",
      "\u001b[1;31mKeyboardInterrupt\u001b[0m: "
     ]
    }
   ],
   "source": [
    "#We can capture the screen we look at\n",
    "for i in range(30):\n",
    "    print(i)\n",
    "    captures = ImageGrab.grab(bbox=(40,180,1920,1080))\n",
    "    captures = np.array(captures)\n",
    "    cv2.imwrite(os.path.join(path , 'ss_'+str(i)+'.png'), captures) \n",
    "    \n",
    "    #Template matching\n",
    "    trexloc = cv2.matchTemplate(captures, trex, cv2.TM_SQDIFF_NORMED )\n",
    "    birdloc = cv2.matchTemplate(captures, bird, cv2.TM_SQDIFF_NORMED )\n",
    "    moleloc = cv2.matchTemplate(captures, mole, cv2.TM_SQDIFF_NORMED )\n",
    "    coinloc = cv2.matchTemplate(captures, coin, cv2.TM_SQDIFF_NORMED )\n",
    "    cactusloc = cv2.matchTemplate(captures, cactus, cv2.TM_SQDIFF_NORMED)\n",
    "    \n",
    "    threshold = 0.9\n",
    "    \n",
    "    #Extracting the locations of the objects\n",
    "    trexloc = cv2.minMaxLoc(trexloc)[2]\n",
    "    birdloc = cv2.minMaxLoc(birdloc)[2]\n",
    "    moleloc = cv2.minMaxLoc(moleloc)[2]\n",
    "    coinloc = cv2.minMaxLoc(coinloc)[2]\n",
    "    cactusloc = cv2.minMaxLoc(cactusloc)[2]\n",
    "    #print(tloc)\n",
    "    \n",
    "    #trexloc = np.where( trexloc >= threshold)\n",
    "    print(trexloc)    \n",
    "    #birdloc = np.where( birdloc >= threshold)\n",
    "    #moleloc = np.where( moleloc >= threshold)\n",
    "    #coinloc = np.where( coinloc >= threshold)\n",
    "    #cactusloc = np.where( cactusloc >= threshold)\n",
    "    \n",
    "    \n",
    "    #Drawing rectangles\n",
    "    cv2.rectangle(captures, trexloc, (trexloc[0]+trexW, trexloc[1]+trexH), (0, 255, 0), 3)\n",
    "    cv2.rectangle(captures, birdloc, (birdloc[0]+birdW, birdloc[1]+birdH), (0, 0, 255), 3)\n",
    "    cv2.rectangle(captures, moleloc, (moleloc[0]+trexW, moleloc[1]+moleH), (255, 0, 255), 3)\n",
    "    cv2.rectangle(captures, coinloc, (coinloc[0]+coinW, coinloc[1]+coinH), (255, 255, 0), 3)\n",
    "    cv2.rectangle(captures, cactusloc, (cactusloc[0]+cactusW, cactusloc[1]+cactusH), (255, 0, 0), 3)\n",
    "    cv2.imwrite(os.path.join(path , 'ss_with_object_'+str(i)+'.png'), captures) \n",
    "    \n",
    "    time.sleep(1)"
   ]
  },
  {
   "cell_type": "code",
   "execution_count": 142,
   "metadata": {},
   "outputs": [],
   "source": [
    "coinloc = cv2.matchTemplate(captures, coin, cv2.TM_SQDIFF_NORMED)"
   ]
  },
  {
   "cell_type": "code",
   "execution_count": 117,
   "metadata": {},
   "outputs": [
    {
     "data": {
      "text/plain": [
       "array([[0.35956022, 0.35956022, 0.35956022, ..., 0.31697568, 0.31854424,\n",
       "        0.32144716],\n",
       "       [0.35956022, 0.35956022, 0.35956022, ..., 0.31479865, 0.31713766,\n",
       "        0.32088053],\n",
       "       [0.35956052, 0.35956052, 0.35956037, ..., 0.31302273, 0.3161545 ,\n",
       "        0.32014984],\n",
       "       ...,\n",
       "       [0.6445501 , 0.6451075 , 0.6452626 , ..., 0.560102  , 0.5591695 ,\n",
       "        0.5582604 ],\n",
       "       [0.6498746 , 0.6502903 , 0.6504193 , ..., 0.5647701 , 0.56414557,\n",
       "        0.5630341 ],\n",
       "       [0.65528136, 0.6556692 , 0.6557815 , ..., 0.56806076, 0.56838256,\n",
       "        0.5677249 ]], dtype=float32)"
      ]
     },
     "execution_count": 117,
     "metadata": {},
     "output_type": "execute_result"
    }
   ],
   "source": [
    "coinloc"
   ]
  },
  {
   "cell_type": "code",
   "execution_count": null,
   "metadata": {},
   "outputs": [],
   "source": []
  }
 ],
 "metadata": {
  "kernelspec": {
   "display_name": "Python 3",
   "language": "python",
   "name": "python3"
  },
  "language_info": {
   "codemirror_mode": {
    "name": "ipython",
    "version": 3
   },
   "file_extension": ".py",
   "mimetype": "text/x-python",
   "name": "python",
   "nbconvert_exporter": "python",
   "pygments_lexer": "ipython3",
   "version": "3.8.3"
  }
 },
 "nbformat": 4,
 "nbformat_minor": 4
}
