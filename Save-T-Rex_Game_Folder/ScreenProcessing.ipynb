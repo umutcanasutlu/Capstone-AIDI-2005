{
 "cells": [
  {
   "cell_type": "code",
   "execution_count": 1,
   "metadata": {},
   "outputs": [],
   "source": [
    "import numpy as np\n",
    "import cv2\n",
    "from PIL import ImageGrab\n",
    "import webbrowser\n",
    "import pyautogui"
   ]
  },
  {
   "cell_type": "code",
   "execution_count": 2,
   "metadata": {},
   "outputs": [],
   "source": [
    "#Will be deleted\n",
    "import time\n",
    "import os"
   ]
  },
  {
   "cell_type": "code",
   "execution_count": 3,
   "metadata": {},
   "outputs": [],
   "source": [
    "def capture():\n",
    "    #bbox = region of interest on the entire screen\n",
    "    screen =  np.array(ImageGrab.grab(bbox=(525,200,1550,700))) \n",
    "    image = cv2.resize(screen, (0,0), fx = 0.20, fy = 0.20) \n",
    "    #crop out the dino agent from the frame\n",
    "    #image = image[2:38,10:50] #img[y:y+h, x:x+w] \n",
    "    image = cv2.Canny(image, threshold1 = 100, threshold2 = 200)\n",
    "    return image"
   ]
  },
  {
   "cell_type": "code",
   "execution_count": 6,
   "metadata": {},
   "outputs": [],
   "source": [
    "swidth, sheight = pyautogui.size()\n",
    "\n",
    "xfactor = swidth / 1920 \n",
    "yfactor = sheight / 1080 \n",
    "\n",
    "url = 'https://growgaming.itch.io/save-t-rex'\n",
    "webbrowser.open_new(url)\n",
    "time.sleep(2.0)\n",
    "pyautogui.click(942 * xfactor, 607* yfactor) \n",
    "time.sleep(2.0)\n",
    "pyautogui.click(1415 * xfactor, 909 * yfactor)\n",
    "time.sleep(2.0)\n",
    "pyautogui.click(955 * xfactor, 399 * yfactor)\n",
    "time.sleep(1.0)\n",
    "pyautogui.click()\n",
    "\n",
    "\n",
    "#Will be deleted\n",
    "if not os.path.exists('Captures'):\n",
    "    os.makedirs('Captures')\n",
    "path = './Captures'\n",
    "    \n",
    "while (True):\n",
    "    image = capture()\n",
    "    \n",
    "    cv2.namedWindow(\"Dino\", cv2.WINDOW_NORMAL)\n",
    "    cv2.imshow(\"Dino\", image)\n",
    "    if cv2.waitKey(1) == 27:  # close on ESC key\n",
    "        cv2.destroyAllWindows()\n",
    "        break\n",
    "\n",
    "    #cv2.imwrite(os.path.join(path , 'ss_'+str(i)+'.png'), image) \n",
    "    time.sleep(0.01)"
   ]
  },
  {
   "cell_type": "code",
   "execution_count": null,
   "metadata": {},
   "outputs": [],
   "source": [
    "image.imshow()"
   ]
  }
 ],
 "metadata": {
  "kernelspec": {
   "display_name": "Python 3",
   "language": "python",
   "name": "python3"
  },
  "language_info": {
   "codemirror_mode": {
    "name": "ipython",
    "version": 3
   },
   "file_extension": ".py",
   "mimetype": "text/x-python",
   "name": "python",
   "nbconvert_exporter": "python",
   "pygments_lexer": "ipython3",
   "version": "3.8.3"
  }
 },
 "nbformat": 4,
 "nbformat_minor": 4
}
